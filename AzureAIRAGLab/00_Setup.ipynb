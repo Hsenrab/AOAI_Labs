{
 "cells": [
  {
   "cell_type": "markdown",
   "metadata": {},
   "source": [
    "# Setup - RAG Lab\n",
    "In order to execute these notebooks:\n",
    "\n",
    "It is best if 1 person from the group sets up these resources and shares the .env file.\n",
    "\n",
    "### Pre-Requisite\n",
    "Following servicess and access required to run the hands-on code  \n",
    "AI services  \n",
    "- AI Search  \n",
    "- AML workspace  \n",
    "- AI Doc Intelligence   \n",
    "- Azure OpenAI model - text-embedding-ada-002, GPT 3.5 T, GPT 4  \n",
    "    \n",
    "Access  \n",
    "- Access Azure Portal  \n",
    "- Contributor access"
   ]
  },
  {
   "cell_type": "markdown",
   "metadata": {},
   "source": [
    "\n",
    "## Create Document Intelligence Resource\n",
    "1. Log into Azure portal\n",
    "1. Create resource group container to manage all the resources in one umberalla https://learn.microsoft.com/en-us/azure/azure-resource-manager/management/manage-resource-groups-portal\n",
    "1. Create a Document Intelligence service. https://learn.microsoft.com/en-us/azure/ai-services/document-intelligence/create-document-intelligence-resource?view=doc-intel-4.0.0\n",
    "    Make sure to use S0 and not the free tier.\n",
    "    All other options leave as default.\n",
    "\n"
   ]
  },
  {
   "cell_type": "markdown",
   "metadata": {},
   "source": [
    "## Create a storage account.\n",
    "1. https://learn.microsoft.com/en-us/azure/storage/blobs/blob-containers-portal\n",
    "    - Primary Service - Azure Blob Storage \n",
    "    - Primary Workload - Other \n",
    "    - Standard performance \n",
    "    - As this is a demo we can also choose Locally Redundant Storage \n",
    "\n",
    "1. Create a container called *data* in the `Container` blade.\n",
    "1. Upload some files to chunk into your container by clicking on the newly created container and selecting the `Upload` button in the ribbon.\n"
   ]
  },
  {
   "cell_type": "markdown",
   "metadata": {},
   "source": [
    "## Set up AML workspace\n",
    "Please use the instruction to set up AML workspace along with docs \n",
    "https://learn.microsoft.com/en-us/azure/machine-learning/quickstart-create-resources?view=azureml-api-2\n",
    "\n",
    "Single AML workspace - each person needs to set up their own compute. \n",
    "Please remember to set up configuration for compute instance to shut down inactivity as well as after non working hours. This is 1 hr by default. <B>otherwise compute instance cost £££££££££</b>"
   ]
  },
  {
   "cell_type": "markdown",
   "metadata": {},
   "source": [
    "## Create Azure OpenAI model\n",
    "Please use the instruction to deploy the GPT models https://learn.microsoft.com/en-us/azure/ai-services/openai/how-to/create-resource?pivots=web-portal  \n",
    "\n",
    "Note: One deployment of each model is good enough to run this hack (not necessary for everyone to do the model deployment). However make sure thatt you increase the token limits on the models.\n",
    "- gpt 3.5 model\n",
    "- gpt 4 model\n",
    "- text-embedding-ada-002\n",
    "\n",
    "If you change the names of these from the default you will also need to change them below in the env variable file."
   ]
  },
  {
   "cell_type": "markdown",
   "metadata": {},
   "source": [
    "## Create Azure AI Search\n",
    " [instructions here](https://learn.microsoft.com/azure/search/search-create-service-portal) \n",
    "(You can reuse one already created if it meets the following criteria)\n",
    "  - Basic tier or higher is needed. (Use standard if there are more than 5 people in the workshop)\n",
    "  - Choose the same region as Azure OpenAI.\n",
    "  - Enable semantic ranking (on by default) Settings / Semantic Ranker\n",
    "  - Enable a system identity for Azure AI Search. - Settings / Identity / System Assigned / Enable *Be sure to save*"
   ]
  },
  {
   "cell_type": "markdown",
   "metadata": {},
   "source": [
    "## Create Azure AI Services multiservice account\n",
    "- Ensure its in the same region as Azure AI Search."
   ]
  },
  {
   "cell_type": "markdown",
   "metadata": {},
   "source": [
    "\n",
    "## Create .env file which stores credentials\n",
    "1. Start the compute instance (if not already running) \n",
    "1. Click Notebooks from left blade\n",
    "1. Open up the terminal window from AML workspace by clicking terminal icon  \n",
    "\n",
    "    <img src=\"Instruction_images/cli.png\" alt=\"cli-login\" width=\"300\"/>\n",
    "\n",
    "1. In the terminal  \n",
    "    ```\n",
    "    git clone https://github.com/Hsenrab/AOAI_Labs.git\n",
    "    ```\n",
    "1. In the terminal type \n",
    "    ```\n",
    "    cd AOAI_Labs/AzureAISearchLab\n",
    "    vi .env\n",
    "    ```\n",
    "    - The above command will create and open a .env file, then to edit the file using the vi editor, press \"i\" and add your environment variables (key , value) like in the image below. Below is a list of the environment variables needed and where to find them.          \n",
    "    - After saving the file, in the root directory of your compute instance, run \"ls -la\" to view all files, including hidden ones, which should show you a .env as in the image below. \n",
    "    - You can repeat above steps if you want to make changes / amend to values\n",
    "\n",
    "1. Update the all key and values (provide the details). values should be quotes. \n",
    "    1. Azure OpenAI variables - Navigate to Azure Open AI resource in the portal. In the blade Resource Management / Keys and Endpoint\n",
    "        - If you changed the names of the models when deploying them change them here too.  \n",
    "\n",
    "        ```\n",
    "        OPENAI_API_KEY=  \n",
    "        OPENAI_API_ENDPOINT=  \n",
    "        OPENAI_API_VERSION=\"2023-05-15\"  \n",
    "        GPT4_MODEL_NAME=\"gpt-4\"  \n",
    "        GPT35_MODEL_NAME=\"gpt-35-turbo\"    \n",
    "        EMBEDDINGS_MODEL_NAME=\"text-embedding-ada-002\"\n",
    "        ```\n",
    "\n",
    "    1. Storage Account variables  \n",
    "        - Go to your storage resource in the porta l.\n",
    "            - For Connection string Security & Netowrking / Access Keys / Connection String\n",
    "        - Click on the newly created container  \n",
    "        - For Endpoint value:  Settings, Properties, URL  \n",
    "        - For SAS TOKEN:  Settings, Shared access tokens  \n",
    "            - Adjust the expiry date (after the workshop finishes) and create a Shared access token for the container by clicking the *Generate SAS token and URL* button.  \n",
    "            - Copy SAS Token  \n",
    "        - \n",
    " \n",
    "        ```\n",
    "        BLOB_STORAGE_ACCOUNT_CONNECTION_STRING=\n",
    "        BLOB_CONTAINER_ENDPOINT= \n",
    "        BLOB_SAS_TOKEN= \n",
    "        \n",
    "        ``` \n",
    "\n",
    "    1. Document Intelligence variables (form recogniser)\n",
    "        - Getting the values from the `Resource Management`/ `Keys and Endpoint` blade in the *Document Intelligence* service in the Azure portal.\n",
    "\n",
    "        ```\n",
    "        FORM_RECOGNIZER_ENDPOINT= \n",
    "        FORM_RECOGNIZER_KEY= \n",
    "        ```\n",
    "\n",
    "    1. Azure Search\n",
    "        - Update the .env file with AI_SEARCH_KEY  (Use admin keys - In the portal go to resources then Settings, Keys on the left.)\n",
    "        - Update the .env file with AI_SEARCH_ENDPOINT  (Overview page - url)\n",
    "\n",
    "        ```\n",
    "        AI_SEARCH_KEY= \n",
    "        AI_SEARCH_ENDPOINT= \n",
    "        ```\n",
    " \n",
    "    1. Azure AI Services multiservice accoun\n",
    "        - Update the .env file with AZURE_AI_KEY (In the portal - Resource Management - Keys and Endpoint)\n",
    "\n",
    "        ```\n",
    "        AZURE_AI_KEY= \n",
    "        ```\n",
    "\n",
    "1. Restart the python kernal whenever you make changes to .env file to reflect the changes to reload the configuration\n",
    "\n",
    "***** This repo is just for cloning the code to your AML worksapce to get the copy of the code. Please dont try to commit or push any changes ******"
   ]
  },
  {
   "cell_type": "markdown",
   "metadata": {},
   "source": []
  },
  {
   "cell_type": "markdown",
   "metadata": {},
   "source": [
    "### <b>Finally, after completing the hands-on tasks, make sure to tear down and delete all resources to avoid any costs ££££££ </b>\n",
    "1. Please follow the instructions to delete the Resource Group https://learn.microsoft.com/en-us/azure/azure-resource-manager/management/manage-resource-groups-portal#delete-resource-groups"
   ]
  },
  {
   "cell_type": "markdown",
   "metadata": {},
   "source": [
    "> NOTE: Creating these services may incur Azure usage costs."
   ]
  }
 ],
 "metadata": {
  "language_info": {
   "name": "python"
  }
 },
 "nbformat": 4,
 "nbformat_minor": 2
}
