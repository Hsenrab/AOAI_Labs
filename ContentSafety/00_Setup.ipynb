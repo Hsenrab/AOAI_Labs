{
  "cells": [
    {
      "cell_type": "markdown",
      "metadata": {},
      "source": [
        "# Setup - Content Safety\n",
        "In order to execute these notebooks:\n",
        "\n",
        "It is best if 1 person from the group sets up these resources and shares the .env file.\n",
        "\n",
        "### Pre-Requisite\n",
        "Following servicess and access required to run the hands-on code  \n",
        "AI services  \n",
        "- Content Safety\n",
        "\n",
        "    \n",
        "Access  \n",
        "- Access Azure Portal  \n",
        "- Contributor access"
      ]
    },
    {
      "cell_type": "markdown",
      "metadata": {},
      "source": [
        "## Set up AML workspace\n",
        "\n",
        "*Skip if you already have a workspace set up.*\n",
        "Please use the instruction to set up AML workspace along with docs \n",
        "https://learn.microsoft.com/en-us/azure/machine-learning/quickstart-create-resources?view=azureml-api-2\n",
        "\n",
        "Single AML workspace - each person needs to set up their own compute. \n",
        "Please remember to set up configuration for compute instance to shut down inactivity as well as after non working hours. This is 1 hr by default. <B>otherwise compute instance cost £££££££££</b>"
      ]
    },
    {
      "cell_type": "markdown",
      "metadata": {},
      "source": [
        "\n",
        "## Create .env file which stores credentials\n",
        "1. Start the compute instance (if not already running) \n",
        "1. Click Notebooks from left blade\n",
        "1. Open up the terminal window from AML workspace by clicking terminal icon  \n",
        "\n",
        "    <img src=\"Instruction_images/cli.png\" alt=\"cli-login\" width=\"300\"/>\n",
        "\n",
        "1. In the terminal  *Skip if already cloned from another lab*\n",
        "    ```\n",
        "    git clone https://github.com/Hsenrab/AOAI_Labs.git\n",
        "    ```\n",
        "1. In the terminal type \n",
        "    ```\n",
        "    cd AOAI_Labs/ContentSafety\n",
        "    vi .env\n",
        "    ```\n",
        "    - The above command will create and open a .env file, then to edit the file using the vi editor, press \"i\" and add your environment variables (key , value) like in the image below. Below is a list of the environment variables needed and where to find them.          \n",
        "    - After saving the file, in the root directory of your compute instance, run \"ls -la\" to view all files, including hidden ones, which should show you a .env as in the image below. \n",
        "    - You can repeat above steps if you want to make changes / amend to values\n",
        "\n",
        "1. Update the all key and values (provide the details). values should be quotes. \n",
        "    1. Azure Content Safety variables \n",
        "        - Option 1 - If you have been using the AI Studio to experiment with Content Safety. Then go to Moderate Text Contetnt View COde.\n",
        "        ```\n",
        "        CONTRENT_SAFETY_KEY=  \n",
        "        CONTENT_SAFETY_ENDPOINT= \n",
        "        ```\n",
        "\n",
        "Restart the python kernal whenever you make changes to .env file to reflect the changes to reload the configuration\n",
        "\n",
        "***** This repo is just for cloning the code to your AML worksapce to get the copy of the code. Please dont try to commit or push any changes ******"
      ]
    },
    {
      "cell_type": "markdown",
      "metadata": {},
      "source": []
    },
    {
      "cell_type": "markdown",
      "metadata": {},
      "source": [
        "### <b>Finally, after completing the hands-on tasks, make sure to tear down and delete all resources to avoid any costs ££££££ </b>\n",
        "1. Please follow the instructions to delete the Resource Group https://learn.microsoft.com/en-us/azure/azure-resource-manager/management/manage-resource-groups-portal#delete-resource-groups"
      ]
    },
    {
      "cell_type": "markdown",
      "metadata": {},
      "source": [
        "> NOTE: Creating these services may incur Azure usage costs."
      ]
    }
  ],
  "metadata": {
    "kernel_info": {
      "name": "python38-azureml"
    },
    "kernelspec": {
      "display_name": "Python 3.8 - AzureML",
      "language": "python",
      "name": "python38-azureml"
    },
    "language_info": {
      "codemirror_mode": {
        "name": "ipython",
        "version": 3
      },
      "file_extension": ".py",
      "mimetype": "text/x-python",
      "name": "python",
      "nbconvert_exporter": "python",
      "pygments_lexer": "ipython3",
      "version": "3.9.19"
    },
    "microsoft": {
      "ms_spell_check": {
        "ms_spell_check_language": "en"
      }
    },
    "nteract": {
      "version": "nteract-front-end@1.0.0"
    }
  },
  "nbformat": 4,
  "nbformat_minor": 2
}
