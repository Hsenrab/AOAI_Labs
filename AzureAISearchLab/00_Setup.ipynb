{
 "cells": [
  {
   "cell_type": "markdown",
   "metadata": {},
   "source": [
    "# Setup - Search Lab \n",
    "In order to execute these notebooks:\n",
    "\n",
    "It is best if 1 person from the group sets up these resources and shares the .env file.\n",
    "\n",
    "### Pre-Requisite\n",
    "Following servicess and access required to run the hands-on code - details of how to deploy are given when hey are needde.\n",
    "AI services  \n",
    "- Azure Storage Account\n",
    "- AI Search  \n",
    "- AML workspace  \n",
    "- AI Doc Intelligence   \n",
    "- Azure OpenAI model - text-embedding-ada-002\n",
    "    \n",
    "Access  \n",
    "- Access Azure Portal  \n",
    "- Contributor access"
   ]
  },
  {
   "cell_type": "markdown",
   "metadata": {},
   "source": [
    "## Set up AML workspace\n",
    "Please use the instruction to set up AML workspace along with docs \n",
    "https://learn.microsoft.com/en-us/azure/machine-learning/quickstart-create-resources?view=azureml-api-2\n",
    "\n",
    "Single AML workspace - each person needs to set up their own compute. \n",
    "Please remember to set up configuration for compute instance to shut down inactivity as well as after non working hours. This is 1 hr by default. <B>otherwise compute instance cost £££££££££</b>"
   ]
  },
  {
   "cell_type": "markdown",
   "metadata": {},
   "source": [
    "## Create Azure OpenAI model\n",
    "Please use the instruction to deploy the GPT models https://learn.microsoft.com/en-us/azure/ai-services/openai/how-to/create-resource?pivots=web-portal  \n",
    "\n",
    "Note: One deployment of each model is good enough to run this hack (not necessary for everyone to do the model deployment). However make sure thatt you increase the token limits on the models.\n",
    "- text-embedding-ada-002\n",
    "\n",
    "If you change the names of these from the default you will also need to change them below in the env variable file."
   ]
  },
  {
   "cell_type": "markdown",
   "metadata": {},
   "source": [
    "### <b>Finally, after completing the hands-on tasks, make sure to tear down and delete all resources to avoid any costs ££££££ </b>\n",
    "1. Please follow the instructions to delete the Resource Group https://learn.microsoft.com/en-us/azure/azure-resource-manager/management/manage-resource-groups-portal#delete-resource-groups"
   ]
  },
  {
   "cell_type": "markdown",
   "metadata": {},
   "source": [
    "> NOTE: Creating these services may incur Azure usage costs."
   ]
  }
 ],
 "metadata": {},
 "nbformat": 4,
 "nbformat_minor": 2
}
