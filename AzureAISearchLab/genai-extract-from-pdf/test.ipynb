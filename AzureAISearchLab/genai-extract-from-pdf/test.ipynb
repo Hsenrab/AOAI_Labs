{
 "cells": [
  {
   "cell_type": "code",
   "execution_count": null,
   "metadata": {},
   "outputs": [],
   "source": [
    "import os\n",
    "from dotenv import load_dotenv\n",
    "\n",
    "load_dotenv()\n",
    "\n",
    "is_local = False\n",
    "\n",
    "function_name = \"extracttomarkdown\"\n",
    "\n",
    "if is_local:\n",
    "    url = \"http://localhost:7071/api/\"\n",
    "    \n",
    "else:\n",
    "    url = \"https://genai-extact-from-pdf.azurewebsites.net/api/\"\n",
    "    \n",
    "    \n",
    "url = url + function_name\n",
    "    \n",
    "\n",
    "\n"
   ]
  },
  {
   "cell_type": "code",
   "execution_count": null,
   "metadata": {},
   "outputs": [],
   "source": [
    "import os\n",
    "\n",
    "# Test 1        \n",
    "pdf_url1 = os.getenv('PDF_URL_1')\n",
    "pdf_sas1 = os.getenv('PDF_SAS_1')\n",
    "\n",
    "pdf_url2 = os.getenv('PDF_URL_2')\n",
    "pdf_sas2 = os.getenv('PDF_SAS_2')"
   ]
  },
  {
   "cell_type": "code",
   "execution_count": null,
   "metadata": {},
   "outputs": [],
   "source": [
    "import requests\n",
    "import json\n",
    "\n",
    "\n",
    "\n",
    "data = {\n",
    "    \"values\": [\n",
    "        {\n",
    "            \"recordId\": \"record1\",\n",
    "            \"data\": { \n",
    "                \"docUrl\": pdf_url1,\n",
    "                \"docSAS\": pdf_sas1\n",
    "            }\n",
    "        },  \n",
    "        {\n",
    "            \"recordId\": \"record2\",\n",
    "            \"data\": { \n",
    "                \"docUrl\": pdf_url1,\n",
    "                \"docSAS\": pdf_sas1\n",
    "            }\n",
    "        },\n",
    "    ]\n",
    "}\n",
    "\n",
    "response = requests.post(url, json=data)\n",
    "print(response.status_code)\n",
    "try:\n",
    "    print(json.dumps(response.json(), indent=4))\n",
    "except requests.exceptions.JSONDecodeError:\n",
    "    print(response.text)"
   ]
  },
  {
   "cell_type": "code",
   "execution_count": null,
   "metadata": {},
   "outputs": [],
   "source": []
  },
  {
   "cell_type": "code",
   "execution_count": null,
   "metadata": {},
   "outputs": [],
   "source": [
    "# Extract the page number from the markdown string\n",
    "markdown = \"\"\"     Pageer 43\n",
    "\n",
    "page 456\n",
    "    \n",
    "    Monthly Savings\n",
    "    | Month    | Savings |Details      |\n",
    "    | -------- | ------- |------------ |\n",
    "    | January  | $250    | for holiday |\n",
    "    | February | $80     | pension     |\n",
    "    | March    | $420    | new cat     |\n",
    "    \n",
    "    Savings were significantly lower in February. This is surprising because it is a short month and contributing to pension shuld be a priority.\n",
    "    \"\"\"\n",
    "    \n",
    "page_number = markdown.split('\\n')[0].replace(\"Page \", \"\").strip()\n",
    "print(page_number)"
   ]
  },
  {
   "cell_type": "code",
   "execution_count": null,
   "metadata": {},
   "outputs": [],
   "source": [
    "from azure.storage.blob import BlobServiceClient, BlobSasPermissions, generate_blob_sas, BlobClient\n",
    "\n",
    "pdf_url=pdf_url1+\"?\"+pdf_sas1\n",
    "print(pdf_url)\n",
    "blob_client = BlobClient.from_blob_url(pdf_url)\n",
    "pdf_bytes = blob_client.download_blob().readall()"
   ]
  },
  {
   "cell_type": "code",
   "execution_count": null,
   "metadata": {},
   "outputs": [],
   "source": [
    "import datetime\n",
    "\n",
    "blob_connection_string = os.environ[\"BLOB_STORAGE_ACCOUNT_CONNECTION_STRING\"]\n",
    "blob_service_client = BlobServiceClient.from_connection_string(blob_connection_string)\n",
    "container_client = blob_service_client.get_container_client(\"customskillimages\")\n",
    "\n",
    "\n",
    "def get_account_key_from_connection_string(connection_string):\n",
    "    parts = connection_string.split(';')\n",
    "    for part in parts:\n",
    "        if part.startswith('AccountKey='):\n",
    "            return part[len('AccountKey='):]\n",
    "    return None\n",
    "\n",
    "\n",
    "\n",
    "account_key = get_account_key_from_connection_string(blob_connection_string)\n",
    "print(account_key)\n",
    "sas_token = generate_blob_sas(\n",
    "    account_key=account_key,\n",
    "    account_name=blob_service_client.account_name,\n",
    "    container_name=container_client.container_name,\n",
    "    blob_name=blob_client.blob_name,\n",
    "    permission=BlobSasPermissions(read=True),\n",
    "    expiry=datetime.datetime.now(datetime.timezone.utc) + datetime.timedelta(hours=1)\n",
    ")"
   ]
  }
 ],
 "metadata": {
  "kernelspec": {
   "display_name": "promtpflow_examples",
   "language": "python",
   "name": "python3"
  },
  "language_info": {
   "codemirror_mode": {
    "name": "ipython",
    "version": 3
   },
   "file_extension": ".py",
   "mimetype": "text/x-python",
   "name": "python",
   "nbconvert_exporter": "python",
   "pygments_lexer": "ipython3",
   "version": "3.10.14"
  }
 },
 "nbformat": 4,
 "nbformat_minor": 2
}
