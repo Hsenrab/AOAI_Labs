{
 "cells": [
  {
   "cell_type": "code",
   "execution_count": null,
   "metadata": {},
   "outputs": [],
   "source": [
    "import os\n",
    "from dotenv import load_dotenv\n",
    "\n",
    "load_dotenv()\n",
    "\n",
    "is_local = False\n",
    "\n",
    "pdf_to_image_function = \"pdftoimage\"\n",
    "image_to_markdown_function = \"imagetomarkdown\"\n",
    "\n",
    "if is_local:\n",
    "    url = \"http://localhost:7071/api/\"\n",
    "    \n",
    "else:\n",
    "    url = \"https://genai-extact-from-pdf.azurewebsites.net/api/\"\n",
    "    \n",
    "    \n",
    "pdf_to_image_url = url + pdf_to_image_function\n",
    "image_to_markdown_url = url + image_to_markdown_function\n",
    "\n",
    "\n"
   ]
  },
  {
   "cell_type": "code",
   "execution_count": null,
   "metadata": {},
   "outputs": [],
   "source": [
    "import os\n",
    "\n",
    "# Test 1        \n",
    "pdf_url1 = os.getenv('PDF_URL_1')\n",
    "pdf_sas1 = os.getenv('PDF_SAS_1')\n",
    "\n",
    "pdf_url2 = os.getenv('PDF_URL_2')\n",
    "pdf_sas2 = os.getenv('PDF_SAS_2')"
   ]
  },
  {
   "cell_type": "code",
   "execution_count": null,
   "metadata": {},
   "outputs": [],
   "source": [
    "import requests\n",
    "import json\n",
    "\n",
    "\n",
    "\n",
    "data = {\n",
    "    \"values\": [\n",
    "        {\n",
    "            \"recordId\": \"record1\",\n",
    "            \"data\": { \n",
    "                \"docUrl\": pdf_url1,\n",
    "                \"docSAS\": pdf_sas1\n",
    "            }\n",
    "        },  \n",
    "        {\n",
    "            \"recordId\": \"record2\",\n",
    "            \"data\": { \n",
    "                \"docUrl\": pdf_url1,\n",
    "                \"docSAS\": pdf_sas1\n",
    "            }\n",
    "        },\n",
    "    ]\n",
    "}\n",
    "\n",
    "response = requests.post(pdf_to_image_url, json=data)\n",
    "print(response.status_code)\n",
    "try:\n",
    "    print(json.dumps(response.json(), indent=4))\n",
    "except requests.exceptions.JSONDecodeError:\n",
    "    print(response.text)"
   ]
  },
  {
   "cell_type": "code",
   "execution_count": null,
   "metadata": {},
   "outputs": [],
   "source": [
    "data={\n",
    "    \"values\": [\n",
    "        {\n",
    "            \"recordId\": \"record1\",\n",
    "            \"data\": {\n",
    "                \"image_sas_urls\": \"XXX\"\n",
    "            }\n",
    "        },\n",
    "        {\n",
    "            \"recordId\": \"record2\",\n",
    "            \"data\": {\n",
    "                \"image_sas_urls\": \"XXX\"\n",
    "            }\n",
    "        }\n",
    "    ]\n",
    "}\n"
   ]
  },
  {
   "cell_type": "code",
   "execution_count": null,
   "metadata": {},
   "outputs": [],
   "source": [
    "\n",
    "response = requests.post(image_to_markdown_url, json=data)\n",
    "print(response.status_code)\n",
    "try:\n",
    "    print(json.dumps(response.json(), indent=4))\n",
    "except requests.exceptions.JSONDecodeError:\n",
    "    print(response.text)\n"
   ]
  }
 ],
 "metadata": {
  "language_info": {
   "name": "python"
  }
 },
 "nbformat": 4,
 "nbformat_minor": 2
}
