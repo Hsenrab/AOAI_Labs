{
  "cells": [
    {
      "cell_type": "markdown",
      "metadata": {
        "nteract": {
          "transient": {
            "deleting": false
          }
        }
      },
      "source": [
        "## Set up\n",
        "- Create AML workspace [Instructions](https://learn.microsoft.com/en-us/azure/machine-learning/quickstart-create-resources?view=azureml-api-2#create-the-workspace)\n",
        "- Create Compute [Instructions](https://learn.microsoft.com/en-us/azure/machine-learning/quickstart-create-resources?view=azureml-api-2#create-a-compute-instance)\n",
        "\n",
        "Open terminal in your new user  folder\n",
        "```\n",
        "git clone https://github.com/Hsenrab/AOAI_Labs.git\n",
        "```\n",
        "  \n",
        "Create a python environment and make it usable by Notebooks\n",
        "```\n",
        "cd AOAI_Labs\n",
        "conda create --name openai_env python=3.10  \n",
        "conda activate openai_env\n",
        "pip install ipykernel\n",
        "python -m ipykernel install --user --name openai_env --display-name \"Python openai_env\"\n",
        "pip install -r requirements.txt  \n",
        "```\n",
        "  \n",
        "Refresh Kernel List.  \n",
        "Choose kernel: Python openai_env\n"
      ]
    },
    {
      "cell_type": "code",
      "execution_count": 1,
      "metadata": {
        "gather": {
          "logged": 1715343176769
        }
      },
      "outputs": [
        {
          "name": "stdout",
          "output_type": "stream",
          "text": [
            "Python is 👍\n"
          ]
        }
      ],
      "source": [
        "import emoji\n",
        "print(emoji.emojize('Python is :thumbs_up:'))"
      ]
    },
    {
      "cell_type": "markdown",
      "metadata": {},
      "source": [
        "- Create Azure OpenAI Resource [Detailed Instructions](https://learn.microsoft.com/en-us/azure/ai-services/openai/how-to/create-resource?pivots=web-portal)\n",
        "\n",
        "- Rename credentials_template.env to credentials.env [Detailed Instructions](https://learn.microsoft.com/en-us/azure/ai-services/openai/quickstart?tabs=command-line%2Cpython-new&pivots=programming-language-python#retrieve-key-and-endpoint)\n",
        "- Fill in the credentials.env\n"
      ]
    },
    {
      "cell_type": "code",
      "execution_count": 2,
      "metadata": {
        "gather": {
          "logged": 1715343181175
        }
      },
      "outputs": [],
      "source": [
        "# Loads in environement varaibles from credentials.env. \n",
        "# Note that if you change the contents of credentials.env you will need to restart your python kernel as well as rerun this cell.\n",
        "import os\n",
        "from openai import AzureOpenAI\n",
        "from dotenv import load_dotenv\n",
        "load_dotenv(\"credentials.env\")\n",
        "\n",
        "endpoint = os.environ.get(\"AZURE_OPENAI_ENDPOINT\")\n",
        "api_key = os.environ.get(\"AZURE_OPENAI_API_KEY\")\n",
        "deployment = os.environ.get(\"AZURE_OPENAI_DEPLOYMENT_ID\")\n",
        "\n"
      ]
    },
    {
      "cell_type": "code",
      "execution_count": 3,
      "metadata": {
        "gather": {
          "logged": 1715343182626
        }
      },
      "outputs": [
        {
          "name": "stdout",
          "output_type": "stream",
          "text": [
            "Endpoint:  https://aoai-shared-hh.openai.azure.com/\n",
            "API Key:  94ee2119e37e4dcb83c5f9dac1bfa366\n",
            "Deployment:  AIBootcamp\n"
          ]
        }
      ],
      "source": [
        "print(\"Endpoint: \", endpoint)\n",
        "print(\"API Key: \", api_key)\n",
        "print(\"Deployment: \", deployment)"
      ]
    },
    {
      "cell_type": "code",
      "execution_count": 4,
      "metadata": {},
      "outputs": [],
      "source": [
        "client = AzureOpenAI(\n",
        "    azure_endpoint=endpoint,\n",
        "    api_key=api_key,\n",
        "    api_version=\"2024-02-01\",\n",
        ")"
      ]
    },
    {
      "cell_type": "code",
      "execution_count": 5,
      "metadata": {
        "gather": {
          "logged": 1715343283150
        }
      },
      "outputs": [
        {
          "name": "stdout",
          "output_type": "stream",
          "text": [
            "Yes, several other Azure AI services support the use of customer managed keys (CMKs) for encrypting data at rest. The purpose of customer managed keys is to give users control over the encryption keys used to secure their data. Users can manage these keys using Azure Key Vault, which offers enhanced security and control over the keys.\n",
            "\n",
            "Here are some Azure AI services that support customer managed keys:\n",
            "\n",
            "1. **Azure Cognitive Services**: Some of the individual services within Cognitive Services support CMKs, enabling you to maintain more control over your encryption keys.\n",
            "\n",
            "2. **Azure Machine Learning**: Supports CMKs, providing you with the ability to secure your data while utilizing machine learning capabilities.\n",
            "\n",
            "Remember that support for CMKs might not be available for all features within each service and can be specific to certain services or resources within the Azure AI portfolio. Always check the latest Azure documentation or service details for your desired feature's CMK support to ensure compliance with your security and encryption requirements.\n"
          ]
        }
      ],
      "source": [
        "\n",
        "response = client.chat.completions.create(\n",
        "    model=deployment,\n",
        "    messages=[\n",
        "        {\"role\": \"system\", \"content\": \"You are a helpful assistant.\"},\n",
        "        {\"role\": \"user\", \"content\": \"Does Azure OpenAI support customer managed keys?\"},\n",
        "        {\"role\": \"assistant\", \"content\": \"Yes, customer managed keys are supported by Azure OpenAI.\"},\n",
        "        {\"role\": \"user\", \"content\": \"Do other Azure AI services support this too?\"}\n",
        "    ]\n",
        ")\n",
        "\n",
        "print(response.choices[0].message.content)"
      ]
    },
    {
      "cell_type": "code",
      "execution_count": 6,
      "metadata": {},
      "outputs": [
        {
          "name": "stdout",
          "output_type": "stream",
          "text": [
            "Microsoft has developed a secretive generative AI platform specifically for U.S. intelligence agencies that allows for analyzing sensitive data without the usual security risks associated with internet-connected AI models. According to Bloomberg, this AI tool is the first large language model (LLM) that operates entirely separate from the internet, residing in an \"air-gapped\" cloud accessible only by the U.S. government. William Chappell, Microsoft's CTO for strategic missions and technology, revealed that the model is based on GPT-4 and was introduced at the AI Expo for National Competitiveness. This initiative enables U.S. spies to safely leverage AI tools in an isolated environment.\n"
          ]
        }
      ],
      "source": [
        "article = \"\"\"U.S. intelligence agencies will soon be using a secretive generative artificial intelligence (AI) platform from Microsoft that will let America's spies safely use AI models in the process of analyzing sensitive data.\n",
        "Microsoft's generative AI model for intelligence agencies aims to get around security issues that stem from large language models' (LLMs) connection to the internet, which typically is used as a resource for training those models. Bloomberg reported that the AI tool is the first major LLM fully separated from the internet.\n",
        "William Chappell, Microsoft's CTO for strategic missions and technology, told Bloomberg the AI tool was deployed to an \"air-gapped\" cloud environment isolated from the internet and features a model based on GPT-4 along with supporting tools. The company announced the new product at the AI Expo for National Competitiveness this week.\n",
        "\"This is the first time we've ever had an isolated version — when isolated means it's not connected to the internet — and it's on a special network that's only accessible by the U.S. government,\" Chappell told Bloomberg.\"\"\"\n",
        "\n",
        "response = client.chat.completions.create(\n",
        "    model=deployment,\n",
        "    messages=[\n",
        "        {\"role\": \"system\", \"content\": \"You are a helpful assistant.\"},\n",
        "        {\"role\": \"user\", \"content\": f\"Consider this article: {article} Please create a summary\"}\n",
        "    ]\n",
        ")\n",
        "\n",
        "print(response.choices[0].message.content)"
      ]
    }
  ],
  "metadata": {
    "kernel_info": {
      "name": "openai_env"
    },
    "kernelspec": {
      "display_name": "openai_env",
      "language": "python",
      "name": "python3"
    },
    "language_info": {
      "codemirror_mode": {
        "name": "ipython",
        "version": 3
      },
      "file_extension": ".py",
      "mimetype": "text/x-python",
      "name": "python",
      "nbconvert_exporter": "python",
      "pygments_lexer": "ipython3",
      "version": "3.10.14"
    },
    "microsoft": {
      "ms_spell_check": {
        "ms_spell_check_language": "en"
      }
    },
    "nteract": {
      "version": "nteract-front-end@1.0.0"
    }
  },
  "nbformat": 4,
  "nbformat_minor": 2
}
